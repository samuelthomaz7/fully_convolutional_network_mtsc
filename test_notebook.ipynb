{
 "cells": [
  {
   "cell_type": "code",
   "execution_count": 1,
   "metadata": {},
   "outputs": [
    {
     "name": "stderr",
     "output_type": "stream",
     "text": [
      "2024-08-01 19:02:10.279762: I tensorflow/core/util/port.cc:153] oneDNN custom operations are on. You may see slightly different numerical results due to floating-point round-off errors from different computation orders. To turn them off, set the environment variable `TF_ENABLE_ONEDNN_OPTS=0`.\n",
      "2024-08-01 19:02:10.290089: E external/local_xla/xla/stream_executor/cuda/cuda_fft.cc:485] Unable to register cuFFT factory: Attempting to register factory for plugin cuFFT when one has already been registered\n",
      "2024-08-01 19:02:10.303047: E external/local_xla/xla/stream_executor/cuda/cuda_dnn.cc:8454] Unable to register cuDNN factory: Attempting to register factory for plugin cuDNN when one has already been registered\n",
      "2024-08-01 19:02:10.306376: E external/local_xla/xla/stream_executor/cuda/cuda_blas.cc:1452] Unable to register cuBLAS factory: Attempting to register factory for plugin cuBLAS when one has already been registered\n",
      "2024-08-01 19:02:10.315795: I tensorflow/core/platform/cpu_feature_guard.cc:210] This TensorFlow binary is optimized to use available CPU instructions in performance-critical operations.\n",
      "To enable the following instructions: AVX2 AVX_VNNI FMA, in other operations, rebuild TensorFlow with the appropriate compiler flags.\n",
      "2024-08-01 19:02:10.970925: W tensorflow/compiler/tf2tensorrt/utils/py_utils.cc:38] TF-TRT Warning: Could not find TensorRT\n",
      "WARNING: All log messages before absl::InitializeLog() is called are written to STDERR\n",
      "I0000 00:00:1722549732.218277 1077793 cuda_executor.cc:1001] could not open file to read NUMA node: /sys/bus/pci/devices/0000:01:00.0/numa_node\n",
      "Your kernel may have been built without NUMA support.\n",
      "I0000 00:00:1722549732.262338 1077793 cuda_executor.cc:1001] could not open file to read NUMA node: /sys/bus/pci/devices/0000:01:00.0/numa_node\n",
      "Your kernel may have been built without NUMA support.\n",
      "I0000 00:00:1722549732.262396 1077793 cuda_executor.cc:1001] could not open file to read NUMA node: /sys/bus/pci/devices/0000:01:00.0/numa_node\n",
      "Your kernel may have been built without NUMA support.\n"
     ]
    },
    {
     "data": {
      "text/plain": [
       "[PhysicalDevice(name='/physical_device:GPU:0', device_type='GPU')]"
      ]
     },
     "execution_count": 1,
     "metadata": {},
     "output_type": "execute_result"
    }
   ],
   "source": [
    "import pandas as pd\n",
    "import numpy as np\n",
    "import matplotlib.pyplot as plt\n",
    "import tensorflow as tf\n",
    "# from tensorflow import keras\n",
    "# from keras import layers, optimizers, losses, Model\n",
    "# from aeon import datasets\n",
    "import os\n",
    "# from tqdm import tqdm\n",
    "import pickle\n",
    "from input.reading_datasets import get_all_datasets, read_dataset_from_file\n",
    "import seaborn as sns\n",
    "from preprocessing.get_dummies_labels import GetDummiesLabels\n",
    "from preprocessing.train_test_split_module import TrainTestSplit\n",
    "from models.multi_layer_perceptron import MultiLayerPerceprtron\n",
    "\n",
    "tf.config.list_physical_devices('GPU')"
   ]
  },
  {
   "cell_type": "code",
   "execution_count": 2,
   "metadata": {},
   "outputs": [
    {
     "name": "stderr",
     "output_type": "stream",
     "text": [
      "I0000 00:00:1722549735.591243 1077793 cuda_executor.cc:1001] could not open file to read NUMA node: /sys/bus/pci/devices/0000:01:00.0/numa_node\n",
      "Your kernel may have been built without NUMA support.\n",
      "I0000 00:00:1722549735.591381 1077793 cuda_executor.cc:1001] could not open file to read NUMA node: /sys/bus/pci/devices/0000:01:00.0/numa_node\n",
      "Your kernel may have been built without NUMA support.\n",
      "I0000 00:00:1722549735.591403 1077793 cuda_executor.cc:1001] could not open file to read NUMA node: /sys/bus/pci/devices/0000:01:00.0/numa_node\n",
      "Your kernel may have been built without NUMA support.\n",
      "I0000 00:00:1722549736.198754 1077793 cuda_executor.cc:1001] could not open file to read NUMA node: /sys/bus/pci/devices/0000:01:00.0/numa_node\n",
      "Your kernel may have been built without NUMA support.\n",
      "I0000 00:00:1722549736.198925 1077793 cuda_executor.cc:1001] could not open file to read NUMA node: /sys/bus/pci/devices/0000:01:00.0/numa_node\n",
      "Your kernel may have been built without NUMA support.\n",
      "2024-08-01 19:02:16.198953: I tensorflow/core/common_runtime/gpu/gpu_device.cc:2112] Could not identify NUMA node of platform GPU id 0, defaulting to 0.  Your kernel may not have been built with NUMA support.\n",
      "I0000 00:00:1722549736.199048 1077793 cuda_executor.cc:1001] could not open file to read NUMA node: /sys/bus/pci/devices/0000:01:00.0/numa_node\n",
      "Your kernel may have been built without NUMA support.\n",
      "2024-08-01 19:02:16.199439: I tensorflow/core/common_runtime/gpu/gpu_device.cc:2021] Created device /job:localhost/replica:0/task:0/device:GPU:0 with 5578 MB memory:  -> device: 0, name: NVIDIA GeForce RTX 4060 Laptop GPU, pci bus id: 0000:01:00.0, compute capability: 8.9\n"
     ]
    },
    {
     "name": "stdout",
     "output_type": "stream",
     "text": [
      "Epoch 1/10\n"
     ]
    },
    {
     "name": "stderr",
     "output_type": "stream",
     "text": [
      "WARNING: All log messages before absl::InitializeLog() is called are written to STDERR\n",
      "I0000 00:00:1722549737.920078 1077860 service.cc:146] XLA service 0x7fa870005ab0 initialized for platform CUDA (this does not guarantee that XLA will be used). Devices:\n",
      "I0000 00:00:1722549737.921722 1077860 service.cc:154]   StreamExecutor device (0): NVIDIA GeForce RTX 4060 Laptop GPU, Compute Capability 8.9\n",
      "2024-08-01 19:02:18.032068: I tensorflow/compiler/mlir/tensorflow/utils/dump_mlir_util.cc:268] disabling MLIR crash reproducer, set env var `MLIR_CRASH_REPRODUCER_DIRECTORY` to enable.\n",
      "2024-08-01 19:02:18.376202: I external/local_xla/xla/stream_executor/cuda/cuda_dnn.cc:531] Loaded cuDNN version 8907\n"
     ]
    },
    {
     "name": "stdout",
     "output_type": "stream",
     "text": [
      "\u001b[1m12/15\u001b[0m \u001b[32m━━━━━━━━━━━━━━━━\u001b[0m\u001b[37m━━━━\u001b[0m \u001b[1m0s\u001b[0m 5ms/step - accuracy: 0.0000e+00 - f1_score: 0.2632 - loss: 2.5435"
     ]
    },
    {
     "name": "stderr",
     "output_type": "stream",
     "text": [
      "I0000 00:00:1722549740.694334 1077860 device_compiler.h:188] Compiled cluster using XLA!  This line is logged at most once for the lifetime of the process.\n"
     ]
    },
    {
     "name": "stdout",
     "output_type": "stream",
     "text": [
      "\u001b[1m15/15\u001b[0m \u001b[32m━━━━━━━━━━━━━━━━━━━━\u001b[0m\u001b[37m\u001b[0m \u001b[1m0s\u001b[0m 137ms/step - accuracy: 0.0000e+00 - f1_score: 0.3172 - loss: 2.3668"
     ]
    },
    {
     "name": "stderr",
     "output_type": "stream",
     "text": [
      "2024-08-01 19:02:24.741507: I external/local_xla/xla/stream_executor/cuda/cuda_asm_compiler.cc:393] ptxas warning : Registers are spilled to local memory in function 'gemm_fusion_dot_56', 36 bytes spill stores, 36 bytes spill loads\n",
      "\n",
      "2024-08-01 19:02:27.779254: I external/local_xla/xla/stream_executor/cuda/cuda_asm_compiler.cc:393] ptxas warning : Registers are spilled to local memory in function 'gemm_fusion_dot_56', 48 bytes spill stores, 48 bytes spill loads\n",
      "\n"
     ]
    },
    {
     "name": "stdout",
     "output_type": "stream",
     "text": [
      "\n",
      "Epoch 1: saving model to ./model_checkpoints/MultiLayerPerceprtron_articularywordrecognition_42/checkpoint.keras\n",
      "\u001b[1m15/15\u001b[0m \u001b[32m━━━━━━━━━━━━━━━━━━━━\u001b[0m\u001b[37m\u001b[0m \u001b[1m12s\u001b[0m 565ms/step - accuracy: 0.0000e+00 - f1_score: 0.3317 - loss: 2.3192 - val_accuracy: 0.0000e+00 - val_f1_score: 0.8824 - val_loss: 0.2507 - learning_rate: 0.0010\n",
      "Epoch 2/10\n",
      "\u001b[1m14/15\u001b[0m \u001b[32m━━━━━━━━━━━━━━━━━━\u001b[0m\u001b[37m━━\u001b[0m \u001b[1m0s\u001b[0m 4ms/step - accuracy: 2.0686e-05 - f1_score: 0.8890 - loss: 0.3255 \n",
      "Epoch 2: ReduceLROnPlateau reducing learning rate to 0.0009000000427477062.\n",
      "\n",
      "Epoch 2: saving model to ./model_checkpoints/MultiLayerPerceprtron_articularywordrecognition_42/checkpoint.keras\n",
      "\u001b[1m15/15\u001b[0m \u001b[32m━━━━━━━━━━━━━━━━━━━━\u001b[0m\u001b[37m\u001b[0m \u001b[1m0s\u001b[0m 12ms/step - accuracy: 2.8970e-05 - f1_score: 0.8939 - loss: 0.3151 - val_accuracy: 0.0014 - val_f1_score: 0.9405 - val_loss: 0.2596 - learning_rate: 0.0010\n",
      "Epoch 3/10\n",
      "\u001b[1m 1/15\u001b[0m \u001b[32m━\u001b[0m\u001b[37m━━━━━━━━━━━━━━━━━━━\u001b[0m \u001b[1m0s\u001b[0m 23ms/step - accuracy: 0.0000e+00 - f1_score: 0.7333 - loss: 0.2395\n",
      "Epoch 3: saving model to ./model_checkpoints/MultiLayerPerceprtron_articularywordrecognition_42/checkpoint.keras\n",
      "\u001b[1m15/15\u001b[0m \u001b[32m━━━━━━━━━━━━━━━━━━━━\u001b[0m\u001b[37m\u001b[0m \u001b[1m0s\u001b[0m 10ms/step - accuracy: 4.3893e-04 - f1_score: 0.9373 - loss: 0.1515 - val_accuracy: 0.0000e+00 - val_f1_score: 0.9592 - val_loss: 0.1502 - learning_rate: 9.0000e-04\n",
      "Epoch 4/10\n",
      "\u001b[1m 1/15\u001b[0m \u001b[32m━\u001b[0m\u001b[37m━━━━━━━━━━━━━━━━━━━\u001b[0m \u001b[1m0s\u001b[0m 20ms/step - accuracy: 0.0025 - f1_score: 0.8000 - loss: 0.0037\n",
      "Epoch 4: saving model to ./model_checkpoints/MultiLayerPerceprtron_articularywordrecognition_42/checkpoint.keras\n",
      "\u001b[1m15/15\u001b[0m \u001b[32m━━━━━━━━━━━━━━━━━━━━\u001b[0m\u001b[37m\u001b[0m \u001b[1m0s\u001b[0m 11ms/step - accuracy: 0.0019 - f1_score: 0.9548 - loss: 0.0915 - val_accuracy: 0.0010 - val_f1_score: 0.9657 - val_loss: 0.1298 - learning_rate: 9.0000e-04\n",
      "Epoch 5/10\n",
      "\u001b[1m 1/15\u001b[0m \u001b[32m━\u001b[0m\u001b[37m━━━━━━━━━━━━━━━━━━━\u001b[0m \u001b[1m0s\u001b[0m 24ms/step - accuracy: 0.0012 - f1_score: 0.8000 - loss: 0.0043\n",
      "Epoch 5: saving model to ./model_checkpoints/MultiLayerPerceprtron_articularywordrecognition_42/checkpoint.keras\n",
      "\u001b[1m15/15\u001b[0m \u001b[32m━━━━━━━━━━━━━━━━━━━━\u001b[0m\u001b[37m\u001b[0m \u001b[1m0s\u001b[0m 11ms/step - accuracy: 0.0017 - f1_score: 0.9708 - loss: 0.0702 - val_accuracy: 0.0010 - val_f1_score: 0.9720 - val_loss: 0.0895 - learning_rate: 9.0000e-04\n",
      "Epoch 6/10\n",
      "\u001b[1m 1/15\u001b[0m \u001b[32m━\u001b[0m\u001b[37m━━━━━━━━━━━━━━━━━━━\u001b[0m \u001b[1m0s\u001b[0m 23ms/step - accuracy: 0.0025 - f1_score: 0.8000 - loss: 0.0027\n",
      "Epoch 6: ReduceLROnPlateau reducing learning rate to 0.0008100000384729356.\n",
      "\n",
      "Epoch 6: saving model to ./model_checkpoints/MultiLayerPerceprtron_articularywordrecognition_42/checkpoint.keras\n",
      "\u001b[1m15/15\u001b[0m \u001b[32m━━━━━━━━━━━━━━━━━━━━\u001b[0m\u001b[37m\u001b[0m \u001b[1m0s\u001b[0m 11ms/step - accuracy: 0.0030 - f1_score: 0.9778 - loss: 0.0210 - val_accuracy: 0.0024 - val_f1_score: 0.9357 - val_loss: 0.1316 - learning_rate: 9.0000e-04\n",
      "Epoch 7/10\n",
      "\u001b[1m 1/15\u001b[0m \u001b[32m━\u001b[0m\u001b[37m━━━━━━━━━━━━━━━━━━━\u001b[0m \u001b[1m0s\u001b[0m 21ms/step - accuracy: 0.0037 - f1_score: 0.7467 - loss: 0.0855\n",
      "Epoch 7: ReduceLROnPlateau reducing learning rate to 0.0007290000503417104.\n",
      "\n",
      "Epoch 7: saving model to ./model_checkpoints/MultiLayerPerceprtron_articularywordrecognition_42/checkpoint.keras\n",
      "\u001b[1m15/15\u001b[0m \u001b[32m━━━━━━━━━━━━━━━━━━━━\u001b[0m\u001b[37m\u001b[0m \u001b[1m0s\u001b[0m 10ms/step - accuracy: 0.0035 - f1_score: 0.9723 - loss: 0.0292 - val_accuracy: 0.0038 - val_f1_score: 0.9576 - val_loss: 0.1858 - learning_rate: 8.1000e-04\n",
      "Epoch 8/10\n",
      "\u001b[1m10/15\u001b[0m \u001b[32m━━━━━━━━━━━━━\u001b[0m\u001b[37m━━━━━━━\u001b[0m \u001b[1m0s\u001b[0m 6ms/step - accuracy: 0.0036 - f1_score: 0.9643 - loss: 0.0123 \n",
      "Epoch 8: ReduceLROnPlateau reducing learning rate to 0.0006561000715009868.\n",
      "\n",
      "Epoch 8: saving model to ./model_checkpoints/MultiLayerPerceprtron_articularywordrecognition_42/checkpoint.keras\n",
      "\u001b[1m15/15\u001b[0m \u001b[32m━━━━━━━━━━━━━━━━━━━━\u001b[0m\u001b[37m\u001b[0m \u001b[1m0s\u001b[0m 13ms/step - accuracy: 0.0040 - f1_score: 0.9768 - loss: 0.0115 - val_accuracy: 0.0038 - val_f1_score: 0.9688 - val_loss: 0.1199 - learning_rate: 7.2900e-04\n",
      "Epoch 9/10\n",
      "\u001b[1m12/15\u001b[0m \u001b[32m━━━━━━━━━━━━━━━━\u001b[0m\u001b[37m━━━━\u001b[0m \u001b[1m0s\u001b[0m 5ms/step - accuracy: 0.0045 - f1_score: 0.9739 - loss: 0.0105 \n",
      "Epoch 9: ReduceLROnPlateau reducing learning rate to 0.0005904900433961303.\n",
      "\n",
      "Epoch 9: saving model to ./model_checkpoints/MultiLayerPerceprtron_articularywordrecognition_42/checkpoint.keras\n",
      "\u001b[1m15/15\u001b[0m \u001b[32m━━━━━━━━━━━━━━━━━━━━\u001b[0m\u001b[37m\u001b[0m \u001b[1m0s\u001b[0m 12ms/step - accuracy: 0.0046 - f1_score: 0.9793 - loss: 0.0101 - val_accuracy: 0.0056 - val_f1_score: 0.9763 - val_loss: 0.1122 - learning_rate: 6.5610e-04\n",
      "Epoch 10/10\n",
      "\u001b[1m15/15\u001b[0m \u001b[32m━━━━━━━━━━━━━━━━━━━━\u001b[0m\u001b[37m\u001b[0m \u001b[1m0s\u001b[0m 4ms/step - accuracy: 0.0055 - f1_score: 0.9790 - loss: 0.0069 \n",
      "Epoch 10: ReduceLROnPlateau reducing learning rate to 0.0005314410547725857.\n",
      "\n",
      "Epoch 10: saving model to ./model_checkpoints/MultiLayerPerceprtron_articularywordrecognition_42/checkpoint.keras\n",
      "\u001b[1m15/15\u001b[0m \u001b[32m━━━━━━━━━━━━━━━━━━━━\u001b[0m\u001b[37m\u001b[0m \u001b[1m0s\u001b[0m 12ms/step - accuracy: 0.0055 - f1_score: 0.9798 - loss: 0.0075 - val_accuracy: 0.0049 - val_f1_score: 0.9763 - val_loss: 0.0950 - learning_rate: 5.9049e-04\n",
      "Epoch 10: early stopping\n"
     ]
    }
   ],
   "source": [
    "used_dataset = read_dataset_from_file(dataset_name = 'ArticularyWordRecognition')\n",
    "X, y, metadata = used_dataset\n",
    "\n",
    "get_dummies_object = GetDummiesLabels(\n",
    "    X_raw= X,\n",
    "    y_raw= y,\n",
    "    metadata= metadata\n",
    ")\n",
    "\n",
    "X, y = get_dummies_object.transform()\n",
    "\n",
    "train_test_object = TrainTestSplit(\n",
    "    X_raw= X,\n",
    "    y_raw= y,\n",
    "    metadata= metadata\n",
    ")\n",
    "\n",
    "X_train, X_test, y_train, y_test = train_test_object.transform()\n",
    "\n",
    "model = MultiLayerPerceprtron(\n",
    "    X_train=X_train,\n",
    "    X_test = X_test,\n",
    "    y_train = y_train,\n",
    "    y_test = y_test,\n",
    "    metadata = metadata\n",
    ")\n",
    "\n",
    "model.training_process()\n",
    "\n",
    "\n"
   ]
  },
  {
   "cell_type": "code",
   "execution_count": 7,
   "metadata": {},
   "outputs": [
    {
     "data": {
      "text/plain": [
       "0.9780869483947754"
      ]
     },
     "execution_count": 7,
     "metadata": {},
     "output_type": "execute_result"
    }
   ],
   "source": [
    "max(model.history.history['val_accuracy'])"
   ]
  }
 ],
 "metadata": {
  "kernelspec": {
   "display_name": "tensor_flow_masters",
   "language": "python",
   "name": "python3"
  },
  "language_info": {
   "codemirror_mode": {
    "name": "ipython",
    "version": 3
   },
   "file_extension": ".py",
   "mimetype": "text/x-python",
   "name": "python",
   "nbconvert_exporter": "python",
   "pygments_lexer": "ipython3",
   "version": "3.10.14"
  }
 },
 "nbformat": 4,
 "nbformat_minor": 2
}
