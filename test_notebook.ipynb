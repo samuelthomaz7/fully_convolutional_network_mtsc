{
 "cells": [
  {
   "cell_type": "code",
   "execution_count": 1,
   "metadata": {},
   "outputs": [
    {
     "name": "stderr",
     "output_type": "stream",
     "text": [
      "2024-08-01 19:52:23.903773: I tensorflow/core/util/port.cc:153] oneDNN custom operations are on. You may see slightly different numerical results due to floating-point round-off errors from different computation orders. To turn them off, set the environment variable `TF_ENABLE_ONEDNN_OPTS=0`.\n",
      "2024-08-01 19:52:23.917248: E external/local_xla/xla/stream_executor/cuda/cuda_fft.cc:485] Unable to register cuFFT factory: Attempting to register factory for plugin cuFFT when one has already been registered\n",
      "2024-08-01 19:52:23.930804: E external/local_xla/xla/stream_executor/cuda/cuda_dnn.cc:8454] Unable to register cuDNN factory: Attempting to register factory for plugin cuDNN when one has already been registered\n",
      "2024-08-01 19:52:23.934322: E external/local_xla/xla/stream_executor/cuda/cuda_blas.cc:1452] Unable to register cuBLAS factory: Attempting to register factory for plugin cuBLAS when one has already been registered\n",
      "2024-08-01 19:52:23.944437: I tensorflow/core/platform/cpu_feature_guard.cc:210] This TensorFlow binary is optimized to use available CPU instructions in performance-critical operations.\n",
      "To enable the following instructions: AVX2 AVX_VNNI FMA, in other operations, rebuild TensorFlow with the appropriate compiler flags.\n",
      "2024-08-01 19:52:24.661028: W tensorflow/compiler/tf2tensorrt/utils/py_utils.cc:38] TF-TRT Warning: Could not find TensorRT\n",
      "WARNING: All log messages before absl::InitializeLog() is called are written to STDERR\n",
      "I0000 00:00:1722552745.771515 1083029 cuda_executor.cc:1001] could not open file to read NUMA node: /sys/bus/pci/devices/0000:01:00.0/numa_node\n",
      "Your kernel may have been built without NUMA support.\n",
      "I0000 00:00:1722552745.809475 1083029 cuda_executor.cc:1001] could not open file to read NUMA node: /sys/bus/pci/devices/0000:01:00.0/numa_node\n",
      "Your kernel may have been built without NUMA support.\n",
      "I0000 00:00:1722552745.809534 1083029 cuda_executor.cc:1001] could not open file to read NUMA node: /sys/bus/pci/devices/0000:01:00.0/numa_node\n",
      "Your kernel may have been built without NUMA support.\n"
     ]
    },
    {
     "data": {
      "text/plain": [
       "[PhysicalDevice(name='/physical_device:GPU:0', device_type='GPU')]"
      ]
     },
     "execution_count": 1,
     "metadata": {},
     "output_type": "execute_result"
    }
   ],
   "source": [
    "import pandas as pd\n",
    "import numpy as np\n",
    "import matplotlib.pyplot as plt\n",
    "import tensorflow as tf\n",
    "# from tensorflow import keras\n",
    "# from keras import layers, optimizers, losses, Model\n",
    "# from aeon import datasets\n",
    "import os\n",
    "# from tqdm import tqdm\n",
    "import pickle\n",
    "from input.reading_datasets import get_all_datasets, read_dataset_from_file\n",
    "import seaborn as sns\n",
    "from preprocessing.get_dummies_labels import GetDummiesLabels\n",
    "from preprocessing.train_test_split_module import TrainTestSplit\n",
    "from models.multi_layer_perceptron import MultiLayerPerceprtron\n",
    "\n",
    "tf.config.list_physical_devices('GPU')"
   ]
  },
  {
   "cell_type": "code",
   "execution_count": 2,
   "metadata": {},
   "outputs": [
    {
     "name": "stderr",
     "output_type": "stream",
     "text": [
      "I0000 00:00:1722552745.857858 1083029 cuda_executor.cc:1001] could not open file to read NUMA node: /sys/bus/pci/devices/0000:01:00.0/numa_node\n",
      "Your kernel may have been built without NUMA support.\n",
      "I0000 00:00:1722552745.858174 1083029 cuda_executor.cc:1001] could not open file to read NUMA node: /sys/bus/pci/devices/0000:01:00.0/numa_node\n",
      "Your kernel may have been built without NUMA support.\n",
      "I0000 00:00:1722552745.858213 1083029 cuda_executor.cc:1001] could not open file to read NUMA node: /sys/bus/pci/devices/0000:01:00.0/numa_node\n",
      "Your kernel may have been built without NUMA support.\n",
      "I0000 00:00:1722552746.913666 1083029 cuda_executor.cc:1001] could not open file to read NUMA node: /sys/bus/pci/devices/0000:01:00.0/numa_node\n",
      "Your kernel may have been built without NUMA support.\n",
      "I0000 00:00:1722552746.914046 1083029 cuda_executor.cc:1001] could not open file to read NUMA node: /sys/bus/pci/devices/0000:01:00.0/numa_node\n",
      "Your kernel may have been built without NUMA support.\n",
      "2024-08-01 19:52:26.914070: I tensorflow/core/common_runtime/gpu/gpu_device.cc:2112] Could not identify NUMA node of platform GPU id 0, defaulting to 0.  Your kernel may not have been built with NUMA support.\n",
      "I0000 00:00:1722552746.914340 1083029 cuda_executor.cc:1001] could not open file to read NUMA node: /sys/bus/pci/devices/0000:01:00.0/numa_node\n",
      "Your kernel may have been built without NUMA support.\n",
      "2024-08-01 19:52:26.915290: I tensorflow/core/common_runtime/gpu/gpu_device.cc:2021] Created device /job:localhost/replica:0/task:0/device:GPU:0 with 5578 MB memory:  -> device: 0, name: NVIDIA GeForce RTX 4060 Laptop GPU, pci bus id: 0000:01:00.0, compute capability: 8.9\n"
     ]
    },
    {
     "name": "stdout",
     "output_type": "stream",
     "text": [
      "Epoch 1/10\n"
     ]
    },
    {
     "name": "stderr",
     "output_type": "stream",
     "text": [
      "WARNING: All log messages before absl::InitializeLog() is called are written to STDERR\n",
      "I0000 00:00:1722552748.869613 1083092 service.cc:146] XLA service 0x7f2f30006200 initialized for platform CUDA (this does not guarantee that XLA will be used). Devices:\n",
      "I0000 00:00:1722552748.869876 1083092 service.cc:154]   StreamExecutor device (0): NVIDIA GeForce RTX 4060 Laptop GPU, Compute Capability 8.9\n",
      "2024-08-01 19:52:29.010136: I tensorflow/compiler/mlir/tensorflow/utils/dump_mlir_util.cc:268] disabling MLIR crash reproducer, set env var `MLIR_CRASH_REPRODUCER_DIRECTORY` to enable.\n",
      "2024-08-01 19:52:29.607977: I external/local_xla/xla/stream_executor/cuda/cuda_dnn.cc:531] Loaded cuDNN version 8907\n"
     ]
    },
    {
     "name": "stdout",
     "output_type": "stream",
     "text": [
      "\u001b[1m11/15\u001b[0m \u001b[32m━━━━━━━━━━━━━━\u001b[0m\u001b[37m━━━━━━\u001b[0m \u001b[1m0s\u001b[0m 11ms/step - accuracy: 0.0000e+00 - f1_score: 0.2681 - loss: 2.6718"
     ]
    },
    {
     "name": "stderr",
     "output_type": "stream",
     "text": [
      "I0000 00:00:1722552752.805462 1083092 device_compiler.h:188] Compiled cluster using XLA!  This line is logged at most once for the lifetime of the process.\n"
     ]
    },
    {
     "name": "stdout",
     "output_type": "stream",
     "text": [
      "\u001b[1m15/15\u001b[0m \u001b[32m━━━━━━━━━━━━━━━━━━━━\u001b[0m\u001b[37m\u001b[0m \u001b[1m0s\u001b[0m 149ms/step - accuracy: 0.0000e+00 - f1_score: 0.3518 - loss: 2.4626\n",
      "Epoch 1: saving model to ./model_checkpoints/FullyConvolutionalNetwork_articularywordrecognition_1/checkpoint.keras\n",
      "\u001b[1m15/15\u001b[0m \u001b[32m━━━━━━━━━━━━━━━━━━━━\u001b[0m\u001b[37m\u001b[0m \u001b[1m9s\u001b[0m 288ms/step - accuracy: 0.0000e+00 - f1_score: 0.3674 - loss: 2.4225 - val_accuracy: 0.0000e+00 - val_f1_score: 0.8256 - val_loss: 0.6195 - learning_rate: 0.0010\n",
      "Epoch 2/10\n",
      "\u001b[1m 1/15\u001b[0m \u001b[32m━\u001b[0m\u001b[37m━━━━━━━━━━━━━━━━━━━\u001b[0m \u001b[1m0s\u001b[0m 25ms/step - accuracy: 0.0000e+00 - f1_score: 0.6396 - loss: 0.7724\n",
      "Epoch 2: saving model to ./model_checkpoints/FullyConvolutionalNetwork_articularywordrecognition_1/checkpoint.keras\n",
      "\u001b[1m15/15\u001b[0m \u001b[32m━━━━━━━━━━━━━━━━━━━━\u001b[0m\u001b[37m\u001b[0m \u001b[1m0s\u001b[0m 9ms/step - accuracy: 0.0000e+00 - f1_score: 0.9083 - loss: 0.7281 - val_accuracy: 0.0000e+00 - val_f1_score: 0.9293 - val_loss: 0.3481 - learning_rate: 0.0010\n",
      "Epoch 3/10\n",
      "\u001b[1m15/15\u001b[0m \u001b[32m━━━━━━━━━━━━━━━━━━━━\u001b[0m\u001b[37m\u001b[0m \u001b[1m0s\u001b[0m 4ms/step - accuracy: 0.0000e+00 - f1_score: 0.9521 - loss: 0.4546 \n",
      "Epoch 3: saving model to ./model_checkpoints/FullyConvolutionalNetwork_articularywordrecognition_1/checkpoint.keras\n",
      "\u001b[1m15/15\u001b[0m \u001b[32m━━━━━━━━━━━━━━━━━━━━\u001b[0m\u001b[37m\u001b[0m \u001b[1m0s\u001b[0m 10ms/step - accuracy: 0.0000e+00 - f1_score: 0.9540 - loss: 0.4518 - val_accuracy: 0.0000e+00 - val_f1_score: 0.9348 - val_loss: 0.2636 - learning_rate: 0.0010\n",
      "Epoch 4/10\n",
      "\u001b[1m14/15\u001b[0m \u001b[32m━━━━━━━━━━━━━━━━━━\u001b[0m\u001b[37m━━\u001b[0m \u001b[1m0s\u001b[0m 4ms/step - accuracy: 0.0000e+00 - f1_score: 0.9567 - loss: 0.3212 \n",
      "Epoch 4: saving model to ./model_checkpoints/FullyConvolutionalNetwork_articularywordrecognition_1/checkpoint.keras\n",
      "\u001b[1m15/15\u001b[0m \u001b[32m━━━━━━━━━━━━━━━━━━━━\u001b[0m\u001b[37m\u001b[0m \u001b[1m0s\u001b[0m 9ms/step - accuracy: 0.0000e+00 - f1_score: 0.9610 - loss: 0.3168 - val_accuracy: 0.0000e+00 - val_f1_score: 0.9348 - val_loss: 0.2372 - learning_rate: 0.0010\n",
      "Epoch 5/10\n",
      "\u001b[1m13/15\u001b[0m \u001b[32m━━━━━━━━━━━━━━━━━\u001b[0m\u001b[37m━━━\u001b[0m \u001b[1m0s\u001b[0m 4ms/step - accuracy: 0.0000e+00 - f1_score: 0.9632 - loss: 0.2436 \n",
      "Epoch 5: saving model to ./model_checkpoints/FullyConvolutionalNetwork_articularywordrecognition_1/checkpoint.keras\n",
      "\u001b[1m15/15\u001b[0m \u001b[32m━━━━━━━━━━━━━━━━━━━━\u001b[0m\u001b[37m\u001b[0m \u001b[1m0s\u001b[0m 10ms/step - accuracy: 0.0000e+00 - f1_score: 0.9693 - loss: 0.2379 - val_accuracy: 0.0000e+00 - val_f1_score: 0.9415 - val_loss: 0.2179 - learning_rate: 0.0010\n",
      "Epoch 6/10\n",
      "\u001b[1m15/15\u001b[0m \u001b[32m━━━━━━━━━━━━━━━━━━━━\u001b[0m\u001b[37m\u001b[0m \u001b[1m0s\u001b[0m 4ms/step - accuracy: 0.0000e+00 - f1_score: 0.9760 - loss: 0.1835 \n",
      "Epoch 6: saving model to ./model_checkpoints/FullyConvolutionalNetwork_articularywordrecognition_1/checkpoint.keras\n",
      "\u001b[1m15/15\u001b[0m \u001b[32m━━━━━━━━━━━━━━━━━━━━\u001b[0m\u001b[37m\u001b[0m \u001b[1m0s\u001b[0m 9ms/step - accuracy: 0.0000e+00 - f1_score: 0.9775 - loss: 0.1823 - val_accuracy: 0.0000e+00 - val_f1_score: 0.9415 - val_loss: 0.2040 - learning_rate: 0.0010\n",
      "Epoch 7/10\n",
      "\u001b[1m14/15\u001b[0m \u001b[32m━━━━━━━━━━━━━━━━━━\u001b[0m\u001b[37m━━\u001b[0m \u001b[1m0s\u001b[0m 4ms/step - accuracy: 0.0000e+00 - f1_score: 0.9743 - loss: 0.1450 \n",
      "Epoch 7: saving model to ./model_checkpoints/FullyConvolutionalNetwork_articularywordrecognition_1/checkpoint.keras\n",
      "\u001b[1m15/15\u001b[0m \u001b[32m━━━━━━━━━━━━━━━━━━━━\u001b[0m\u001b[37m\u001b[0m \u001b[1m0s\u001b[0m 9ms/step - accuracy: 0.0000e+00 - f1_score: 0.9775 - loss: 0.1430 - val_accuracy: 0.0000e+00 - val_f1_score: 0.9664 - val_loss: 0.1917 - learning_rate: 0.0010\n",
      "Epoch 8/10\n",
      "\u001b[1m14/15\u001b[0m \u001b[32m━━━━━━━━━━━━━━━━━━\u001b[0m\u001b[37m━━\u001b[0m \u001b[1m0s\u001b[0m 4ms/step - accuracy: 0.0000e+00 - f1_score: 0.9743 - loss: 0.1159 \n",
      "Epoch 8: saving model to ./model_checkpoints/FullyConvolutionalNetwork_articularywordrecognition_1/checkpoint.keras\n",
      "\u001b[1m15/15\u001b[0m \u001b[32m━━━━━━━━━━━━━━━━━━━━\u001b[0m\u001b[37m\u001b[0m \u001b[1m0s\u001b[0m 10ms/step - accuracy: 0.0000e+00 - f1_score: 0.9775 - loss: 0.1145 - val_accuracy: 0.0000e+00 - val_f1_score: 0.9720 - val_loss: 0.1826 - learning_rate: 0.0010\n",
      "Epoch 9/10\n",
      "\u001b[1m15/15\u001b[0m \u001b[32m━━━━━━━━━━━━━━━━━━━━\u001b[0m\u001b[37m\u001b[0m \u001b[1m0s\u001b[0m 4ms/step - accuracy: 0.0000e+00 - f1_score: 0.9760 - loss: 0.0941 \n",
      "Epoch 9: saving model to ./model_checkpoints/FullyConvolutionalNetwork_articularywordrecognition_1/checkpoint.keras\n",
      "\u001b[1m15/15\u001b[0m \u001b[32m━━━━━━━━━━━━━━━━━━━━\u001b[0m\u001b[37m\u001b[0m \u001b[1m0s\u001b[0m 9ms/step - accuracy: 0.0000e+00 - f1_score: 0.9775 - loss: 0.0935 - val_accuracy: 0.0000e+00 - val_f1_score: 0.9780 - val_loss: 0.1744 - learning_rate: 0.0010\n",
      "Epoch 10/10\n",
      "\u001b[1m12/15\u001b[0m \u001b[32m━━━━━━━━━━━━━━━━\u001b[0m\u001b[37m━━━━\u001b[0m \u001b[1m0s\u001b[0m 5ms/step - accuracy: 0.0000e+00 - f1_score: 0.9700 - loss: 0.0795 \n",
      "Epoch 10: saving model to ./model_checkpoints/FullyConvolutionalNetwork_articularywordrecognition_1/checkpoint.keras\n",
      "\u001b[1m15/15\u001b[0m \u001b[32m━━━━━━━━━━━━━━━━━━━━\u001b[0m\u001b[37m\u001b[0m \u001b[1m0s\u001b[0m 10ms/step - accuracy: 0.0000e+00 - f1_score: 0.9775 - loss: 0.0775 - val_accuracy: 0.0000e+00 - val_f1_score: 0.9780 - val_loss: 0.1684 - learning_rate: 0.0010\n",
      "Epoch 1/10\n",
      "\u001b[1m15/15\u001b[0m \u001b[32m━━━━━━━━━━━━━━━━━━━━\u001b[0m\u001b[37m\u001b[0m \u001b[1m0s\u001b[0m 52ms/step - accuracy: 0.0000e+00 - f1_score: 0.3730 - loss: 2.5166\n",
      "Epoch 1: saving model to ./model_checkpoints/FullyConvolutionalNetwork_articularywordrecognition_2/checkpoint.keras\n",
      "\u001b[1m15/15\u001b[0m \u001b[32m━━━━━━━━━━━━━━━━━━━━\u001b[0m\u001b[37m\u001b[0m \u001b[1m3s\u001b[0m 131ms/step - accuracy: 0.0000e+00 - f1_score: 0.3870 - loss: 2.4781 - val_accuracy: 0.0000e+00 - val_f1_score: 0.8706 - val_loss: 0.5684 - learning_rate: 0.0010\n",
      "Epoch 2/10\n",
      "\u001b[1m11/15\u001b[0m \u001b[32m━━━━━━━━━━━━━━\u001b[0m\u001b[37m━━━━━━\u001b[0m \u001b[1m0s\u001b[0m 5ms/step - accuracy: 0.0000e+00 - f1_score: 0.9163 - loss: 0.7003 \n",
      "Epoch 2: saving model to ./model_checkpoints/FullyConvolutionalNetwork_articularywordrecognition_2/checkpoint.keras\n",
      "\u001b[1m15/15\u001b[0m \u001b[32m━━━━━━━━━━━━━━━━━━━━\u001b[0m\u001b[37m\u001b[0m \u001b[1m0s\u001b[0m 10ms/step - accuracy: 0.0000e+00 - f1_score: 0.9231 - loss: 0.6918 - val_accuracy: 0.0000e+00 - val_f1_score: 0.9419 - val_loss: 0.3200 - learning_rate: 0.0010\n",
      "Epoch 3/10\n",
      "\u001b[1m15/15\u001b[0m \u001b[32m━━━━━━━━━━━━━━━━━━━━\u001b[0m\u001b[37m\u001b[0m \u001b[1m0s\u001b[0m 4ms/step - accuracy: 0.0000e+00 - f1_score: 0.9689 - loss: 0.4071 \n",
      "Epoch 3: saving model to ./model_checkpoints/FullyConvolutionalNetwork_articularywordrecognition_2/checkpoint.keras\n",
      "\u001b[1m15/15\u001b[0m \u001b[32m━━━━━━━━━━━━━━━━━━━━\u001b[0m\u001b[37m\u001b[0m \u001b[1m0s\u001b[0m 9ms/step - accuracy: 0.0000e+00 - f1_score: 0.9696 - loss: 0.4075 - val_accuracy: 0.0000e+00 - val_f1_score: 0.9493 - val_loss: 0.2470 - learning_rate: 0.0010\n",
      "Epoch 4/10\n",
      "\u001b[1m 1/15\u001b[0m \u001b[32m━\u001b[0m\u001b[37m━━━━━━━━━━━━━━━━━━━\u001b[0m \u001b[1m0s\u001b[0m 23ms/step - accuracy: 0.0000e+00 - f1_score: 0.7600 - loss: 0.2709\n",
      "Epoch 4: saving model to ./model_checkpoints/FullyConvolutionalNetwork_articularywordrecognition_2/checkpoint.keras\n",
      "\u001b[1m15/15\u001b[0m \u001b[32m━━━━━━━━━━━━━━━━━━━━\u001b[0m\u001b[37m\u001b[0m \u001b[1m0s\u001b[0m 8ms/step - accuracy: 0.0000e+00 - f1_score: 0.9802 - loss: 0.2737 - val_accuracy: 0.0000e+00 - val_f1_score: 0.9427 - val_loss: 0.2161 - learning_rate: 0.0010\n",
      "Epoch 5/10\n",
      "\u001b[1m 1/15\u001b[0m \u001b[32m━\u001b[0m\u001b[37m━━━━━━━━━━━━━━━━━━━\u001b[0m \u001b[1m0s\u001b[0m 21ms/step - accuracy: 0.0000e+00 - f1_score: 0.7600 - loss: 0.1994\n",
      "Epoch 5: saving model to ./model_checkpoints/FullyConvolutionalNetwork_articularywordrecognition_2/checkpoint.keras\n",
      "\u001b[1m15/15\u001b[0m \u001b[32m━━━━━━━━━━━━━━━━━━━━\u001b[0m\u001b[37m\u001b[0m \u001b[1m0s\u001b[0m 9ms/step - accuracy: 0.0000e+00 - f1_score: 0.9825 - loss: 0.2025 - val_accuracy: 0.0000e+00 - val_f1_score: 0.9559 - val_loss: 0.1987 - learning_rate: 0.0010\n",
      "Epoch 6/10\n",
      "\u001b[1m 1/15\u001b[0m \u001b[32m━\u001b[0m\u001b[37m━━━━━━━━━━━━━━━━━━━\u001b[0m \u001b[1m0s\u001b[0m 22ms/step - accuracy: 0.0000e+00 - f1_score: 0.7600 - loss: 0.1520\n",
      "Epoch 6: saving model to ./model_checkpoints/FullyConvolutionalNetwork_articularywordrecognition_2/checkpoint.keras\n",
      "\u001b[1m15/15\u001b[0m \u001b[32m━━━━━━━━━━━━━━━━━━━━\u001b[0m\u001b[37m\u001b[0m \u001b[1m0s\u001b[0m 8ms/step - accuracy: 0.0000e+00 - f1_score: 0.9825 - loss: 0.1556 - val_accuracy: 0.0000e+00 - val_f1_score: 0.9559 - val_loss: 0.1883 - learning_rate: 0.0010\n",
      "Epoch 7/10\n",
      "\u001b[1m 1/15\u001b[0m \u001b[32m━\u001b[0m\u001b[37m━━━━━━━━━━━━━━━━━━━\u001b[0m \u001b[1m0s\u001b[0m 20ms/step - accuracy: 0.0000e+00 - f1_score: 0.7600 - loss: 0.1197\n",
      "Epoch 7: saving model to ./model_checkpoints/FullyConvolutionalNetwork_articularywordrecognition_2/checkpoint.keras\n",
      "\u001b[1m15/15\u001b[0m \u001b[32m━━━━━━━━━━━━━━━━━━━━\u001b[0m\u001b[37m\u001b[0m \u001b[1m0s\u001b[0m 8ms/step - accuracy: 0.0000e+00 - f1_score: 0.9825 - loss: 0.1233 - val_accuracy: 0.0000e+00 - val_f1_score: 0.9664 - val_loss: 0.1787 - learning_rate: 0.0010\n",
      "Epoch 8/10\n",
      "\u001b[1m12/15\u001b[0m \u001b[32m━━━━━━━━━━━━━━━━\u001b[0m\u001b[37m━━━━\u001b[0m \u001b[1m0s\u001b[0m 5ms/step - accuracy: 0.0000e+00 - f1_score: 0.9767 - loss: 0.0985 \n",
      "Epoch 8: saving model to ./model_checkpoints/FullyConvolutionalNetwork_articularywordrecognition_2/checkpoint.keras\n",
      "\u001b[1m15/15\u001b[0m \u001b[32m━━━━━━━━━━━━━━━━━━━━\u001b[0m\u001b[37m\u001b[0m \u001b[1m0s\u001b[0m 10ms/step - accuracy: 0.0000e+00 - f1_score: 0.9825 - loss: 0.1000 - val_accuracy: 0.0000e+00 - val_f1_score: 0.9717 - val_loss: 0.1714 - learning_rate: 0.0010\n",
      "Epoch 9/10\n",
      "\u001b[1m 1/15\u001b[0m \u001b[32m━\u001b[0m\u001b[37m━━━━━━━━━━━━━━━━━━━\u001b[0m \u001b[1m0s\u001b[0m 21ms/step - accuracy: 0.0000e+00 - f1_score: 0.7600 - loss: 0.0795\n",
      "Epoch 9: saving model to ./model_checkpoints/FullyConvolutionalNetwork_articularywordrecognition_2/checkpoint.keras\n",
      "\u001b[1m15/15\u001b[0m \u001b[32m━━━━━━━━━━━━━━━━━━━━\u001b[0m\u001b[37m\u001b[0m \u001b[1m0s\u001b[0m 9ms/step - accuracy: 0.0000e+00 - f1_score: 0.9825 - loss: 0.0826 - val_accuracy: 0.0000e+00 - val_f1_score: 0.9717 - val_loss: 0.1651 - learning_rate: 0.0010\n",
      "Epoch 10/10\n",
      "\u001b[1m14/15\u001b[0m \u001b[32m━━━━━━━━━━━━━━━━━━\u001b[0m\u001b[37m━━\u001b[0m \u001b[1m0s\u001b[0m 4ms/step - accuracy: 0.0000e+00 - f1_score: 0.9800 - loss: 0.0689 \n",
      "Epoch 10: saving model to ./model_checkpoints/FullyConvolutionalNetwork_articularywordrecognition_2/checkpoint.keras\n",
      "\u001b[1m15/15\u001b[0m \u001b[32m━━━━━━━━━━━━━━━━━━━━\u001b[0m\u001b[37m\u001b[0m \u001b[1m0s\u001b[0m 9ms/step - accuracy: 0.0000e+00 - f1_score: 0.9825 - loss: 0.0693 - val_accuracy: 0.0000e+00 - val_f1_score: 0.9717 - val_loss: 0.1609 - learning_rate: 0.0010\n"
     ]
    }
   ],
   "source": [
    "from models.fully_convolutional_network import FullyConvolutionalNetwork\n",
    "from utils_file import training_nn_for_seeds\n",
    "\n",
    "\n",
    "training_nn_for_seeds(\n",
    "    datasets= ['ArticularyWordRecognition'],\n",
    "    seeds= [1,2],\n",
    "    used_model = FullyConvolutionalNetwork\n",
    ")"
   ]
  }
 ],
 "metadata": {
  "kernelspec": {
   "display_name": "tensor_flow_masters",
   "language": "python",
   "name": "python3"
  },
  "language_info": {
   "codemirror_mode": {
    "name": "ipython",
    "version": 3
   },
   "file_extension": ".py",
   "mimetype": "text/x-python",
   "name": "python",
   "nbconvert_exporter": "python",
   "pygments_lexer": "ipython3",
   "version": "3.10.14"
  }
 },
 "nbformat": 4,
 "nbformat_minor": 2
}
